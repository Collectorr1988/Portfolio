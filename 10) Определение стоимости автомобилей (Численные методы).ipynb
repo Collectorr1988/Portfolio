{
 "cells": [
  {
   "cell_type": "markdown",
   "metadata": {},
   "source": [
    "Привет, меня зовут Люман Аблаев. Сегодня я проверю твой проект.\n",
    "<br> Дальнейшее общение будет происходить на \"ты\" если это не вызывает никаких проблем.\n",
    "<br> Желательно реагировать на каждый мой комментарий ('исправил', 'не понятно как исправить ошибку', ...)\n",
    "<br> Пожалуйста, не удаляй комментарии ревьюера, так как они повышают качество повторного ревью.\n",
    "\n",
    "Комментарии будут в <font color='green'>зеленой</font>, <font color='blue'>синей</font> или <font color='red'>красной</font> рамках:\n",
    "\n",
    "<div class=\"alert alert-block alert-success\">\n",
    "<b>Успех:</b> Если все сделано отлично\n",
    "</div>\n",
    "\n",
    "<div class=\"alert alert-block alert-info\">\n",
    "<b>Совет: </b> Если можно немного улучшить\n",
    "</div>\n",
    "\n",
    "<div class=\"alert alert-block alert-danger\">\n",
    "<b>Ошибка:</b> Если требуются исправления. Работа не может быть принята с красными комментариями.\n",
    "</div>\n",
    "\n",
    "\n",
    "<font color='orange' style='font-size:24px; font-weight:bold'>Общее впечатление</font>\n",
    "* Спасибо за то, что прислал такую хорошую работу, видно, что приложено много усилий.\n",
    "* Проект, достаточно аккуратный - приятно проверять такие работы.\n",
    "- Радует, что ты не стесняешься задавать вопросы, я постарался на них ответить и оставить некоторые советы, надеюсь они будут интересными или полезными.\n",
    "- Есть небольшие недочеты связанные с масштабированием признаков и вычислением и анализом времени, но я думаю ты легко с ними справишься.\n",
    "- Жду твою обновленную работу.\n",
    "\n",
    "<font color='orange' style='font-size:24px; font-weight:bold'>Общее впечатление[2]</font>\n",
    "* Спасибо за оперативные правки своей работы.\n",
    "- Радует, что ты реагируешь на мои комментарии и прислушиваешься к советам.\n",
    "- Я ответил на проблему связанную с catboost-ом, надеюсь теперь все будет ок.\n",
    "- Ты корректно обновил и проект и теперь каждый шаг выглядит законченным.\n",
    "- Я принимаю твою работу и желаю удачи в дальнейшем обучении.\n",
    "- Продолжай в том же духе."
   ]
  },
  {
   "cell_type": "markdown",
   "metadata": {},
   "source": [
    "<div class=\"alert alert-block alert-success\">\n",
    "<b>Комментарий студента:</b> Добрый день, Люман! Спасибо за оперативную проверку моего проекта и советы по его улучшению.  \n",
    "    Я постарался исправить все ошибки.\n",
    "</div>"
   ]
  },
  {
   "cell_type": "markdown",
   "metadata": {},
   "source": [
    "## <a id='table of contents'>Содержание</a>  \n",
    "<a href='#part1'>1. ПОСТАНОВКА ЗАДАЧИ</a>     \n",
    "<a href='#part2'>2. ЗАГРУЗКА И ОПИСАНИЕ ДАННЫХ</a>    \n",
    "<a href='#part3'>3. ПРЕДОБРАБОТКА ДАННЫХ</a>    \n",
    "<a href='#part4'>3.1. Заполнение пропусков </a>   \n",
    "<a href='#part5'> 3.2 Исследование аномалий в данных</a>    \n",
    "<a href='#part6'>3.3 Подготовка данных к обучению модели</a>     \n",
    "<a href='#part7'>4 ОБУЧЕНИЕ МОДЕЛЕЙ</a>     \n",
    "<a href='#part8'>4.1 Обучим модель линейной регрессии </a>     \n",
    "<a href='#part9'>4.2 Обучим модель деревьев </a>     \n",
    "<a href='#part10'>5 ОБЩИЙ ВЫВОД </a>   "
   ]
  },
  {
   "cell_type": "markdown",
   "metadata": {},
   "source": [
    "# <a id='part1'>1. ПОСТАНОВКА ЗАДАЧИ</a>\n",
    "<a href='#table of contents'>к оглавлению</a>"
   ]
  },
  {
   "cell_type": "markdown",
   "metadata": {},
   "source": [
    "***Цель:*** Необходимо построить модель предсказания цены автомобиля по историческим данным  \n",
    "***Целевая метрика:*** - RMSE, также необходимо учитывать скорость обучения модели и скорость предсказания"
   ]
  },
  {
   "cell_type": "markdown",
   "metadata": {},
   "source": [
    "# <a id='part2'> 2. ЗАГРУЗКА И ОПИСАНИЕ ДАННЫХ</a>\n",
    "<a href='#table of contents'>к оглавлению</a>"
   ]
  },
  {
   "cell_type": "markdown",
   "metadata": {},
   "source": [
    "### Признаки ###\n",
    "***DateCrawled*** — дата скачивания анкеты из базы  \n",
    "***VehicleType*** — тип автомобильного кузова  \n",
    "***RegistrationYear*** — год регистрации автомобиля  \n",
    "***Gearbox*** — тип коробки передач  \n",
    "***Power*** — мощность (л. с.)  \n",
    "***Model*** — модель автомобиля  \n",
    "***Kilometer*** — пробег (км)  \n",
    "***RegistrationMonth*** — месяц регистрации автомобиля  \n",
    "***FuelType*** — тип топлива  \n",
    "***Brand*** — марка автомобиля  \n",
    "***NotRepaired*** — была машина в ремонте или нет  \n",
    "***DateCreated*** — дата создания анкеты  \n",
    "***NumberOfPictures*** — количество фотографий автомобиля  \n",
    "***PostalCode*** — почтовый индекс владельца анкеты (пользователя)  \n",
    "***LastSeen*** — дата последней активности пользователя  \n",
    "### Целевой признак###\n",
    "***Price*** — цена (евро)   "
   ]
  },
  {
   "cell_type": "markdown",
   "metadata": {},
   "source": [
    "<div class=\"alert alert-block alert-success\">\n",
    "<b>Успех:</b> Спасибо за подробное описание проекта.\n",
    "</div>"
   ]
  },
  {
   "cell_type": "code",
   "execution_count": 1,
   "metadata": {},
   "outputs": [],
   "source": [
    "!pip install wheel\n",
    "!pip install lightgbm"
   ]
  },
  {
   "cell_type": "code",
   "execution_count": 2,
   "metadata": {},
   "outputs": [],
   "source": [
    "conda config --add channels conda-forge"
   ]
  },
  {
   "cell_type": "code",
   "execution_count": 3,
   "metadata": {},
   "outputs": [],
   "source": [
    "conda install catboost"
   ]
  },
  {
   "cell_type": "code",
   "execution_count": 71,
   "metadata": {},
   "outputs": [],
   "source": [
    "import pandas as pd \n",
    "import numpy as np\n",
    "import matplotlib.pyplot as plt\n",
    "from IPython.display import display\n",
    "from sklearn.ensemble import RandomForestRegressor\n",
    "from sklearn.linear_model import LinearRegression\n",
    "from sklearn.model_selection import train_test_split\n",
    "from sklearn.metrics import mean_squared_error\n",
    "from sklearn.preprocessing import OrdinalEncoder\n",
    "from sklearn.metrics import f1_score\n",
    "from sklearn.preprocessing import StandardScaler\n",
    "from sklearn.utils import shuffle\n",
    "from sklearn.metrics import mean_squared_error\n",
    "from sklearn.model_selection import GridSearchCV\n",
    "from sklearn.model_selection import cross_val_score\n",
    "from sklearn.preprocessing import OrdinalEncoder\n",
    "from catboost import CatBoostRegressor\n",
    "from sklearn.model_selection import RepeatedKFold\n",
    "import time\n",
    "pd.options.mode.chained_assignment = None\n",
    "try:\n",
    "    df=pd.read_csv('autos.csv', sep=',') \n",
    "except: \n",
    "    df=pd.read_csv('/datasets/autos.csv', sep=',')\n",
    "pd.options.display.float_format = '{:.2f}'.format"
   ]
  },
  {
   "cell_type": "code",
   "execution_count": 5,
   "metadata": {},
   "outputs": [],
   "source": [
    "import lightgbm as lgb\n",
    "from sklearn.model_selection import train_test_split\n",
    "from sklearn.preprocessing import LabelBinarizer\n",
    "from lightgbm import LGBMRegressor"
   ]
  },
  {
   "cell_type": "code",
   "execution_count": 6,
   "metadata": {},
   "outputs": [],
   "source": [
    "df.info()"
   ]
  },
  {
   "cell_type": "code",
   "execution_count": 7,
   "metadata": {},
   "outputs": [
    {
     "data": {},
     "metadata": {},
     "output_type": "display_data"
    }
   ],
   "source": [
    "display(df.head())"
   ]
  },
  {
   "cell_type": "markdown",
   "metadata": {},
   "source": [
    "***ВЫВОД 1:*** \n",
    "    - В столбцах VehicleType,  Gearbox,  Model, FuelType, NotRepaired есть пропуски\n",
    "    - Столбцы LastSeen, PostalCode, DateCreated, DateCrawled и RegistrationMonth можно удалить, так как эти данные излишни\n",
    "    - Категориальные признаки необходимо преобразовать в численные"
   ]
  },
  {
   "cell_type": "markdown",
   "metadata": {},
   "source": [
    "<div class=\"alert alert-block alert-success\">\n",
    "<b>Успех:</b> Загрузка данных и первичный анализ сделанны корректно.\n",
    "</div>"
   ]
  },
  {
   "cell_type": "markdown",
   "metadata": {},
   "source": [
    "# <a id='part3'>3. ПРЕДОБРАБОТКА ДАННЫХ </a>\n",
    "<a href='#table of contents'>к оглавлению</a>"
   ]
  },
  {
   "cell_type": "markdown",
   "metadata": {},
   "source": [
    "Сделаем названия столбцов строчными"
   ]
  },
  {
   "cell_type": "code",
   "execution_count": 8,
   "metadata": {},
   "outputs": [],
   "source": [
    "def snake_case(s):\n",
    "    \"\"\"Преобразование строк из camelCase в snake_case.\"\"\"\n",
    "    return ''.join('_' + c.lower()\n",
    "                   if all([i != 0,\n",
    "                           c.isupper(),\n",
    "                           s[i - 1].islower()])\n",
    "                   else c.lower()\n",
    "                   for i, c in enumerate(s))"
   ]
  },
  {
   "cell_type": "code",
   "execution_count": 9,
   "metadata": {},
   "outputs": [],
   "source": [
    "df.columns = map(snake_case, df.columns)\n",
    "print(df.columns)"
   ]
  },
  {
   "cell_type": "markdown",
   "metadata": {},
   "source": [
    "Удалим \"лишние\" признаки "
   ]
  },
  {
   "cell_type": "code",
   "execution_count": 10,
   "metadata": {},
   "outputs": [],
   "source": [
    "df = df.drop(['last_seen', 'postal_code', 'date_created', 'date_crawled', 'registration_month'], axis=1)\n",
    "#замечание насчет признака 'number_of_pictures'. Понятно, что этот признак не влияет напрямую на цену машину, но если о цене\n",
    "#машину на сайте, то ясно, что шанс быстрее продать есть у того, кто выложил больше и лучше фото. Получается он влияет на цену. \n",
    "df.info()"
   ]
  },
  {
   "cell_type": "markdown",
   "metadata": {},
   "source": [
    "Проверим признаки на мультиколлинеарность"
   ]
  },
  {
   "cell_type": "code",
   "execution_count": 11,
   "metadata": {},
   "outputs": [],
   "source": [
    "#pd.plotting.scatter_matrix(df, figsize = (16, 16))"
   ]
  },
  {
   "cell_type": "markdown",
   "metadata": {},
   "source": [
    "***Промежуточный вывод:*** Корреляции между признаками не обнаружено"
   ]
  },
  {
   "cell_type": "markdown",
   "metadata": {},
   "source": [
    "<div class=\"alert alert-block alert-success\">\n",
    "<b>Успех:</b> Удалить неинформативные признаки - хорошее решение.\n",
    "</div>"
   ]
  },
  {
   "cell_type": "markdown",
   "metadata": {},
   "source": [
    "# <a id='part4'>3.1. Заполнение пропусков </a>\n",
    "<a href='#table of contents'>к оглавлению</a>"
   ]
  },
  {
   "cell_type": "markdown",
   "metadata": {},
   "source": [
    "***Создадим функцию для замены пропусков в столбце по значениям другого столбца***"
   ]
  },
  {
   "cell_type": "code",
   "execution_count": 12,
   "metadata": {},
   "outputs": [],
   "source": [
    "def Nan_fill (df, NaN_column, fill_column):\n",
    "    \n",
    "    #создадим словарь по которому будем заполнять пропуски с самым часто встречающимся значением\n",
    "    df_dict=dict(df.groupby(fill_column).agg(lambda x: x.mode(dropna=False)[0])[NaN_column])\n",
    "    \n",
    "    #заполним пропуски в столбце \n",
    "    df[NaN_column]=df[NaN_column].fillna(df[fill_column].map(df_dict)) \n",
    "    \n",
    "    #выведем пропущенные значения\n",
    "    print(df[NaN_column].isnull().sum())\n",
    "    \n",
    "    return df"
   ]
  },
  {
   "cell_type": "markdown",
   "metadata": {},
   "source": [
    "<div class=\"alert alert-block alert-success\">\n",
    "<b>Успех:</b> Хороший помощник.\n",
    "</div>"
   ]
  },
  {
   "cell_type": "markdown",
   "metadata": {},
   "source": [
    "Заполним пропуски в столбце ***model*** самым частым значением по бренду"
   ]
  },
  {
   "cell_type": "code",
   "execution_count": 13,
   "metadata": {},
   "outputs": [
    {
     "data": {},
     "execution_count": 13,
     "metadata": {},
     "output_type": "execute_result"
    }
   ],
   "source": [
    "Nan_fill (df, 'model', 'brand')"
   ]
  },
  {
   "cell_type": "markdown",
   "metadata": {},
   "source": [
    "Заполним пропуски в столбце ***VehicleType***"
   ]
  },
  {
   "cell_type": "code",
   "execution_count": 14,
   "metadata": {},
   "outputs": [
    {
     "data": {},
     "execution_count": 14,
     "metadata": {},
     "output_type": "execute_result"
    }
   ],
   "source": [
    "Nan_fill (df, 'vehicle_type', 'model')"
   ]
  },
  {
   "cell_type": "markdown",
   "metadata": {},
   "source": [
    "Заполним пропуски в столбце ***Gearbox***"
   ]
  },
  {
   "cell_type": "code",
   "execution_count": 15,
   "metadata": {},
   "outputs": [
    {
     "data": {},
     "execution_count": 15,
     "metadata": {},
     "output_type": "execute_result"
    }
   ],
   "source": [
    "Nan_fill (df, 'gearbox', 'model')"
   ]
  },
  {
   "cell_type": "markdown",
   "metadata": {},
   "source": [
    "Заполним пропуски в столбце ***FuelType***"
   ]
  },
  {
   "cell_type": "code",
   "execution_count": 16,
   "metadata": {},
   "outputs": [
    {
     "data": {},
     "execution_count": 16,
     "metadata": {},
     "output_type": "execute_result"
    }
   ],
   "source": [
    "Nan_fill (df, 'fuel_type', 'model')"
   ]
  },
  {
   "cell_type": "markdown",
   "metadata": {},
   "source": [
    "Заполним пропуски в столбце ***NotRepaired***  \n",
    "\n",
    "Логично предположить, что если пользователь не указал, что машина была в ремонте, то значит ее ни разу не ремонтировали, \n",
    "поэтому заполним пропуски ответом 'no'"
   ]
  },
  {
   "cell_type": "code",
   "execution_count": 17,
   "metadata": {},
   "outputs": [],
   "source": [
    "df['not_repaired']=df['not_repaired'].fillna('no')\n",
    "print(df['not_repaired'].isnull().sum())"
   ]
  },
  {
   "cell_type": "markdown",
   "metadata": {},
   "source": [
    "Выведем полученный датасет "
   ]
  },
  {
   "cell_type": "code",
   "execution_count": 18,
   "metadata": {},
   "outputs": [],
   "source": [
    "df.info()"
   ]
  },
  {
   "cell_type": "markdown",
   "metadata": {},
   "source": [
    "***Промежуточный вывод***  \n",
    "Достаточно большое количество пропусков осталось в столбце model, но так как разумного способа\n",
    "заполнить эти пропуски нет, то оставим эти пропуски."
   ]
  },
  {
   "cell_type": "markdown",
   "metadata": {},
   "source": [
    "Заполним все оставшиеся пропуcки в датасете новой категорией - 'unknown'"
   ]
  },
  {
   "cell_type": "code",
   "execution_count": 19,
   "metadata": {
    "scrolled": true
   },
   "outputs": [],
   "source": [
    "df=df.fillna('unknown')\n",
    "df.info()"
   ]
  },
  {
   "cell_type": "markdown",
   "metadata": {},
   "source": [
    "<div class=\"alert alert-block alert-success\">\n",
    "<b>Успех:</b> Мне понравится твой подход к заполнению пропусков, он выполнен хорошо.\n",
    "</div>"
   ]
  },
  {
   "cell_type": "markdown",
   "metadata": {},
   "source": [
    "# <a id='part5'>3.2 Исследование аномалий в данных </a>\n",
    "<a href='#table of contents'>к оглавлению</a>"
   ]
  },
  {
   "cell_type": "markdown",
   "metadata": {},
   "source": [
    "***Построим графики для столбцов с числовыми признаками***"
   ]
  },
  {
   "cell_type": "markdown",
   "metadata": {},
   "source": [
    "Изучим признак 'price'"
   ]
  },
  {
   "cell_type": "code",
   "execution_count": 20,
   "metadata": {},
   "outputs": [
    {
     "data": {},
     "execution_count": 20,
     "metadata": {},
     "output_type": "execute_result"
    },
    {
     "data": {
      "image/png": "[encoded data removed]"
     },
     "metadata": {
      "needs_background": "light"
     },
     "output_type": "display_data"
    }
   ],
   "source": [
    "df.plot(y='price', title='Рисунок 1. Количество машин с разной ценой', kind='hist', bins=300, figsize=(15,8))\n",
    "plt.ylabel(\"Цена\")"
   ]
  },
  {
   "cell_type": "markdown",
   "metadata": {},
   "source": [
    "Вывведем диаграмму размаха для признака 'price'"
   ]
  },
  {
   "cell_type": "code",
   "execution_count": 21,
   "metadata": {
    "scrolled": true
   },
   "outputs": [
    {
     "data": {},
     "execution_count": 21,
     "metadata": {},
     "output_type": "execute_result"
    },
    {
     "data": {
      "image/png": "[encoded data removed]"
     },
     "metadata": {
      "needs_background": "light"
     },
     "output_type": "display_data"
    }
   ],
   "source": [
    "df.boxplot('price')\n",
    "plt.ylabel('Количество машин')\n",
    "plt.title('Рисунок 2. Диаграмма размаха для цены')"
   ]
  },
  {
   "cell_type": "markdown",
   "metadata": {},
   "source": [
    "Как видно из рисунка 1 довольно большое количество объектов имеет нулевую цену. выведем количество машин с нулевой ценой"
   ]
  },
  {
   "cell_type": "code",
   "execution_count": 22,
   "metadata": {},
   "outputs": [],
   "source": [
    "df_zero_price_index=df[df['price']==0].index\n",
    "df=df.drop(df_zero_price_index)"
   ]
  },
  {
   "cell_type": "markdown",
   "metadata": {},
   "source": [
    "Так как нулевых данных многовато в распределении, то лучше их удалить, потому что предсказывать для машин 0 цену врятли кому-то нужно"
   ]
  },
  {
   "cell_type": "markdown",
   "metadata": {},
   "source": [
    "<div class=\"alert alert-block alert-info\">\n",
    "<b>Совет:</b> Самое интересное, что на нескольких сайтов по продажам подержанных автомобилей в Германии (страну можно определить по почтовым индексам, большинство из них из Германии) показало, что цены начинаются действительно с 0 и 1 евро, но это единичные объявления и не понятно, то ли это ошибка при заполнении формы, то ли машины на металлолом. Поэтому я тоже все-таки склоняюсь к тому, чтобы избавиться от таких данных\n",
    "</div> "
   ]
  },
  {
   "cell_type": "markdown",
   "metadata": {},
   "source": [
    "<div class=\"alert alert-block alert-success\">\n",
    "<b>Комментарий студента:</b> К сожалению я пока не владею парсингом, так как полный новичек в программировании,  \n",
    "    но буду осваивать. Спасибо за совет!\n",
    "</div>"
   ]
  },
  {
   "cell_type": "code",
   "execution_count": 23,
   "metadata": {
    "scrolled": true
   },
   "outputs": [
    {
     "data": {},
     "execution_count": 23,
     "metadata": {},
     "output_type": "execute_result"
    }
   ],
   "source": [
    "df['price'].isin([0]).sum()"
   ]
  },
  {
   "cell_type": "code",
   "execution_count": 24,
   "metadata": {
    "scrolled": true
   },
   "outputs": [
    {
     "data": {},
     "execution_count": 24,
     "metadata": {},
     "output_type": "execute_result"
    }
   ],
   "source": [
    "df['price'].describe()"
   ]
  },
  {
   "cell_type": "markdown",
   "metadata": {},
   "source": [
    "Изучим признак 'registration_year'"
   ]
  },
  {
   "cell_type": "code",
   "execution_count": 25,
   "metadata": {},
   "outputs": [
    {
     "data": {},
     "execution_count": 25,
     "metadata": {},
     "output_type": "execute_result"
    },
    {
     "data": {
      "image/png": "[encoded data removed]"
     },
     "metadata": {
      "needs_background": "light"
     },
     "output_type": "display_data"
    }
   ],
   "source": [
    "df['registration_year'].plot(title='Рисунок 3. Распределение машин по годам регистрации', kind='hist', bins=1000, figsize=(15,8))\n",
    "plt.xlim(1975, 2020)\n",
    "plt.ylabel(\"Количество машин\")\n",
    "plt.xlabel(\"Год\")"
   ]
  },
  {
   "cell_type": "markdown",
   "metadata": {},
   "source": [
    "Выведем распределение признака"
   ]
  },
  {
   "cell_type": "code",
   "execution_count": 26,
   "metadata": {},
   "outputs": [
    {
     "data": {},
     "execution_count": 26,
     "metadata": {},
     "output_type": "execute_result"
    }
   ],
   "source": [
    "df['registration_year'].describe()"
   ]
  },
  {
   "cell_type": "markdown",
   "metadata": {},
   "source": [
    "Видно, что существуют записи с годами регистрации 1000 и 9999, очевидно, что это какая-то ошибка. Выведем количество строк,\n",
    "с неразумным годом регистрации авто. Для этого ограничимся нижни разумным пределом 1960 г и верхним 2020 г ориентируясь на \n",
    "график 3."
   ]
  },
  {
   "cell_type": "code",
   "execution_count": 27,
   "metadata": {},
   "outputs": [
    {
     "data": {},
     "metadata": {},
     "output_type": "display_data"
    },
    {
     "data": {},
     "metadata": {},
     "output_type": "display_data"
    }
   ],
   "source": [
    "df_registration_year_anomal_down=df.query('registration_year<1960')\n",
    "df_registration_year_anomal_up=df.query('registration_year>2020')\n",
    "display(df_registration_year_anomal_down)\n",
    "display(df_registration_year_anomal_up)"
   ]
  },
  {
   "cell_type": "markdown",
   "metadata": {},
   "source": [
    "Как видно из таблиц количество таких данных не очень большое, поэтому просто удалим эти наблюдения"
   ]
  },
  {
   "cell_type": "code",
   "execution_count": 28,
   "metadata": {},
   "outputs": [],
   "source": [
    "df=df.drop(df_registration_year_anomal_down.index).reset_index()\n",
    "df=df.drop(df_registration_year_anomal_up.index).reset_index()"
   ]
  },
  {
   "cell_type": "code",
   "execution_count": 29,
   "metadata": {
    "scrolled": true
   },
   "outputs": [],
   "source": [
    "df['registration_year'].describe()\n",
    "df.info()"
   ]
  },
  {
   "cell_type": "markdown",
   "metadata": {},
   "source": [
    "<div class=\"alert alert-block alert-success\">\n",
    "<b>Успех:</b> Есть\n",
    "</div>"
   ]
  },
  {
   "cell_type": "markdown",
   "metadata": {},
   "source": [
    "Изучим признак 'power'"
   ]
  },
  {
   "cell_type": "code",
   "execution_count": 30,
   "metadata": {},
   "outputs": [
    {
     "data": {},
     "execution_count": 30,
     "metadata": {},
     "output_type": "execute_result"
    },
    {
     "data": {
      "image/png": "[encoded data removed]"
     },
     "metadata": {
      "needs_background": "light"
     },
     "output_type": "display_data"
    }
   ],
   "source": [
    "df.plot(y='power', title='Рисунок 4. Количество машин с разной мощностью', kind='hist', bins=300, figsize=(15,8))\n",
    "plt.ylabel(\"Количество машин\")\n",
    "plt.xlabel(\"Мощность\")"
   ]
  },
  {
   "cell_type": "code",
   "execution_count": 31,
   "metadata": {},
   "outputs": [
    {
     "data": {
      "image/png": "[encoded data removed]"
     },
     "metadata": {
      "needs_background": "light"
     },
     "output_type": "display_data"
    }
   ],
   "source": [
    "text_size_axis=10\n",
    "text_size_title=25\n",
    "fig = plt.figure(figsize=(10,15))\n",
    "\n",
    "fig.suptitle('Рисунок 5. Диаграммы размаха для мощности двигателя', fontsize = 20) \n",
    "\n",
    "ax_1 = fig.add_subplot(3, 1, 1)\n",
    "\n",
    "df.boxplot('power')\n",
    "plt.ylim(0, 500)\n",
    "plt.ylabel('Количество машин', fontsize = text_size_axis)\n",
    "\n",
    "ax_2 = fig.add_subplot(3, 1, 2)\n",
    "\n",
    "plt.ylabel('Количество машин', fontsize = text_size_axis)\n",
    "\n",
    "df.boxplot('power')\n",
    "\n",
    "plt.ylim(0, 200)\n",
    "\n",
    "ax_3 = fig.add_subplot(3, 1, 3)\n",
    "df.boxplot('power')\n",
    "\n",
    "plt.ylabel('Количество машин', fontsize = text_size_axis)\n",
    "\n",
    "plt.show()"
   ]
  },
  {
   "cell_type": "code",
   "execution_count": 32,
   "metadata": {
    "scrolled": true
   },
   "outputs": [
    {
     "data": {},
     "execution_count": 32,
     "metadata": {},
     "output_type": "execute_result"
    }
   ],
   "source": [
    "df['power'].describe()"
   ]
  },
  {
   "cell_type": "markdown",
   "metadata": {},
   "source": [
    "Как видно из диаграмм все наблюдения с мощностью двигателя более 250 можно считать выбросами. Рассчитаем количество данных,  \n",
    "которое мы потеряем при удалении этих данных. "
   ]
  },
  {
   "cell_type": "code",
   "execution_count": 33,
   "metadata": {
    "scrolled": true
   },
   "outputs": [],
   "source": [
    "print('Количество потерянных данных при удалении наблюдений с мощностью двигателя более 250, %:',  \n",
    "      len(df.query('power>250'))/len(df)*100)"
   ]
  },
  {
   "cell_type": "markdown",
   "metadata": {},
   "source": [
    "Как видно из расчета выше количество потерянных данных чуть больше 2%, поэтому можно удалить эти наблюдения.  \n",
    "Также удалим наблюдения с мощностью 0"
   ]
  },
  {
   "cell_type": "code",
   "execution_count": 34,
   "metadata": {},
   "outputs": [],
   "source": [
    "df_250=df.query('power>250').index\n",
    "df=df.drop(df_250)"
   ]
  },
  {
   "cell_type": "code",
   "execution_count": 35,
   "metadata": {
    "scrolled": true
   },
   "outputs": [],
   "source": [
    "df_zero_price_index=df[df['power']==0].index\n",
    "df=df.drop(df_zero_price_index).reset_index(drop=True)\n",
    "print('Количество наблюдений с нулевой мощностью- ', df['power'].isin([0]).sum())"
   ]
  },
  {
   "cell_type": "markdown",
   "metadata": {},
   "source": [
    "<div class=\"alert alert-block alert-success\">\n",
    "<b>Успех:</b> Пропуски и аномалии обработаны корректным образом, в целом хорошая предобработка.\n",
    "</div>"
   ]
  },
  {
   "cell_type": "markdown",
   "metadata": {},
   "source": [
    "# <a id='part6'>3.3 Подготовка данных к обучению модели</a>\n",
    "<a href='#table of contents'>к оглавлению</a>"
   ]
  },
  {
   "cell_type": "markdown",
   "metadata": {},
   "source": [
    "***Преобразуем категориальные признаки*** "
   ]
  },
  {
   "cell_type": "markdown",
   "metadata": {},
   "source": [
    "Закодируем колонки 'model' и 'brand' техникой Ordinal Encoding, так как в противном слуаем получается слишком много лишних признаков"
   ]
  },
  {
   "cell_type": "code",
   "execution_count": 36,
   "metadata": {},
   "outputs": [
    {
     "data": {},
     "metadata": {},
     "output_type": "display_data"
    }
   ],
   "source": [
    "column_encoder=['model', 'brand'] #получим названия столбцов\n",
    "\n",
    "encoder = OrdinalEncoder()\n",
    "data_ordinal = pd.DataFrame(encoder.fit_transform(df[column_encoder]), \n",
    "                                                      columns=df[column_encoder].columns)\n",
    "display(data_ordinal)"
   ]
  },
  {
   "cell_type": "markdown",
   "metadata": {},
   "source": [
    "Остальные признаки закодируем техникой OHE "
   ]
  },
  {
   "cell_type": "code",
   "execution_count": 37,
   "metadata": {},
   "outputs": [
    {
     "data": {},
     "metadata": {},
     "output_type": "display_data"
    }
   ],
   "source": [
    "data_categorial=['vehicle_type', 'gearbox', 'fuel_type', 'not_repaired'] #получим названия столбцов\n",
    "\n",
    "data_ohe = pd.get_dummies(df[data_categorial], drop_first=True)\n",
    "display(data_ohe)"
   ]
  },
  {
   "cell_type": "markdown",
   "metadata": {},
   "source": [
    "Получим общий датасет после преобразования"
   ]
  },
  {
   "cell_type": "code",
   "execution_count": 38,
   "metadata": {},
   "outputs": [
    {
     "data": {},
     "metadata": {},
     "output_type": "display_data"
    }
   ],
   "source": [
    "df_drop=df.drop(['vehicle_type', 'gearbox', 'fuel_type', 'not_repaired', 'model', 'brand'], axis=1)\n",
    "display(df_drop)"
   ]
  },
  {
   "cell_type": "code",
   "execution_count": 39,
   "metadata": {},
   "outputs": [
    {
     "data": {},
     "metadata": {},
     "output_type": "display_data"
    }
   ],
   "source": [
    "df_sum=data_ordinal.join(data_ohe)\n",
    "\n",
    "df_full=df_sum.join(df_drop) # получим общий датафрейм\n",
    "\n",
    "display(df_full.columns) # выведем полученные столбцы\n",
    "\n",
    "df_full.info()"
   ]
  },
  {
   "cell_type": "markdown",
   "metadata": {},
   "source": [
    "Получим признаки и целевой признак"
   ]
  },
  {
   "cell_type": "markdown",
   "metadata": {},
   "source": [
    "<div class=\"alert alert-block alert-success\">\n",
    "<b>Успех:</b> Использовать mix из OE and OHE - очень интересно, я думаю это наилучшее решение для данной ситуации. Ты избежал возможного переусложнения признакового пространства - 'проклятия размерности'\n",
    "</div>"
   ]
  },
  {
   "cell_type": "code",
   "execution_count": 40,
   "metadata": {},
   "outputs": [],
   "source": [
    "features=df_full.drop(['price', 'level_0', 'index'], axis=1) # получим признаки для обучения и удалим лишние столбцы с индексами\n",
    "target=df_full['price']"
   ]
  },
  {
   "cell_type": "markdown",
   "metadata": {},
   "source": [
    "Получим тренировочную и тестовую выборки"
   ]
  },
  {
   "cell_type": "code",
   "execution_count": 41,
   "metadata": {},
   "outputs": [],
   "source": [
    "features_train, features_test, target_train, target_test = train_test_split(\n",
    "features, target, test_size=0.20, random_state=12345)"
   ]
  },
  {
   "cell_type": "code",
   "execution_count": 42,
   "metadata": {},
   "outputs": [],
   "source": [
    "print(features_train.shape)\n",
    "print(target_train.shape)"
   ]
  },
  {
   "cell_type": "markdown",
   "metadata": {},
   "source": [
    "Масштабируем признаки"
   ]
  },
  {
   "cell_type": "code",
   "execution_count": 72,
   "metadata": {
    "scrolled": true
   },
   "outputs": [
    {
     "data": {},
     "metadata": {},
     "output_type": "display_data"
    },
    {
     "data": {},
     "metadata": {},
     "output_type": "display_data"
    }
   ],
   "source": [
    "#получим названия столбцов\n",
    "\n",
    "df_column= ['model', 'brand', 'vehicle_type_convertible', 'vehicle_type_coupe',\n",
    "       'vehicle_type_other', 'vehicle_type_sedan', 'vehicle_type_small',\n",
    "       'vehicle_type_suv', 'vehicle_type_unknown', 'vehicle_type_wagon',\n",
    "       'gearbox_manual', 'gearbox_unknown', 'fuel_type_electric',\n",
    "       'fuel_type_gasoline', 'fuel_type_hybrid', 'fuel_type_lpg',\n",
    "       'fuel_type_other', 'fuel_type_petrol', 'fuel_type_unknown',\n",
    "       'not_repaired_yes', 'registration_year',\n",
    "       'power', 'kilometer', 'number_of_pictures'] \n",
    "\n",
    "scaler = StandardScaler()\n",
    "scaler.fit(features_train[df_column])\n",
    "features_train[df_column]= scaler.transform(features_train[df_column])\n",
    "features_test[df_column]= scaler.transform(features_test[df_column])\n",
    "display(features_train)\n",
    "display(features_test)\n"
   ]
  },
  {
   "cell_type": "markdown",
   "metadata": {},
   "source": [
    "<div class=\"alert alert-block alert-danger\">\n",
    "<b>Ошибка:</b> Отлично, что scaler был обучен только на трейне, но ты забыл масштабировать тестовую выюорку.\n",
    "</div>"
   ]
  },
  {
   "cell_type": "markdown",
   "metadata": {},
   "source": [
    "<div class=\"alert alert-block alert-success\">\n",
    "<b>Комментарий студента:</b> Действительно ошибка  \"по невнимательности\". Исправил.\n",
    "</div>"
   ]
  },
  {
   "cell_type": "markdown",
   "metadata": {},
   "source": [
    "***ВОПРОС***: А почему не все значения лежат в интервали [-1,1]? Он же должен по идее все масштабировать, чтобы среднее значение было 0, а все остальные значения лежали в интервале от 0 до 1. Разве не так? И что означает предупреждение? "
   ]
  },
  {
   "cell_type": "markdown",
   "metadata": {},
   "source": [
    "<div class=\"alert alert-block alert-info\">\n",
    "<b>Ответ:</b> \n",
    "\n",
    "1) Двумя наиболее популярными методами масштабирования являются - стандартизация и нормализация. Нормализация - это то, о чем ты говоришь. Просто изменение масштаба данных из исходного диапазона таким образом, чтобы все значения находились в новом диапазоне от 0 до 1.<br> Пример инструмента - MinMaxScaler<br>\n",
    "<br>\n",
    "А стандартизация набора данных включает изменение масштаба распределения значений так, чтобы среднее наблюдаемых значений было равно 0, а стандартное отклонение - 1. Поэтому данные могут быть за пределами диапозона -1:1\n",
    "<br> Пример инструмента - StandartScaler<br>\n",
    "<br>\n",
    "\n",
    "2) [Хорошая статься по поводу settingwithcopywarning](https://www.dataquest.io/blog/settingwithcopywarning/) <br>\n",
    "Также у этого warning-a, бывают ложные срабатывания, его можно отключить, используя \n",
    "\n",
    "    pd.options.mode.chained_assignment = None\n",
    "</div> "
   ]
  },
  {
   "cell_type": "markdown",
   "metadata": {},
   "source": [
    "<div class=\"alert alert-block alert-success\">\n",
    "<b>Комментарий студента:</b> Спасибо за статью и за сайт. Буду изучать.  \n",
    "</div>"
   ]
  },
  {
   "cell_type": "markdown",
   "metadata": {},
   "source": [
    "# <a id='part7'>4 ОБУЧЕНИЕ МОДЕЛЕЙ</a>\n",
    "<a href='#table of contents'>к оглавлению</a>"
   ]
  },
  {
   "cell_type": "markdown",
   "metadata": {},
   "source": [
    "# <a id='part8'>4.1 Обучим модель линейной регрессии</a>"
   ]
  },
  {
   "cell_type": "markdown",
   "metadata": {},
   "source": [
    "***Без градиентного спуска и регуляризации***"
   ]
  },
  {
   "cell_type": "code",
   "execution_count": 44,
   "metadata": {},
   "outputs": [],
   "source": [
    "r=12345"
   ]
  },
  {
   "cell_type": "markdown",
   "metadata": {},
   "source": [
    "На тренировочных данных"
   ]
  },
  {
   "cell_type": "code",
   "execution_count": 45,
   "metadata": {},
   "outputs": [],
   "source": [
    "startTime = time.time()\n",
    "\n",
    "model = LinearRegression()\n",
    "LinearRegression_predict=abs(cross_val_score(model, features_train, target_train, scoring='neg_mean_squared_error', cv=50)) \n",
    "LinearRegression_train_RMSE=(sum(LinearRegression_predict)/len(LinearRegression_predict))**0.5\n",
    "\n",
    "endTime = time.time()\n",
    "LinearRegression_totalTime_train = endTime - startTime"
   ]
  },
  {
   "cell_type": "markdown",
   "metadata": {},
   "source": [
    "Выведем время обучения и метрику"
   ]
  },
  {
   "cell_type": "code",
   "execution_count": 46,
   "metadata": {},
   "outputs": [],
   "source": [
    "print(\"Время, затраченное на выполнение данного кода, сек\", LinearRegression_totalTime_train) \n",
    "print('Среднее RMSE на тренировочных данных', LinearRegression_train_RMSE)"
   ]
  },
  {
   "cell_type": "markdown",
   "metadata": {},
   "source": [
    "На тестовых данных"
   ]
  },
  {
   "cell_type": "code",
   "execution_count": 47,
   "metadata": {
    "scrolled": false
   },
   "outputs": [],
   "source": [
    "startTime = time.time()\n",
    "\n",
    "model = LinearRegression()\n",
    "LinearRegression_predict=abs(cross_val_score(model, features_test, target_test, scoring='neg_mean_squared_error', cv=50)) \n",
    "LinearRegression_test_RMSE=(sum(LinearRegression_predict)/len(LinearRegression_predict))**0.5\n",
    "\n",
    "endTime = time.time()\n",
    "LinearRegression_totalTime_test = endTime - startTime"
   ]
  },
  {
   "cell_type": "code",
   "execution_count": 48,
   "metadata": {},
   "outputs": [],
   "source": [
    "LinearRegression_test_time=2.65\n",
    "LinearRegression_test_RMSE=3123\n",
    "print(\"Время, затраченное на выполнение данного кода, сек\", LinearRegression_totalTime_test) \n",
    "print('Среднее RMSE на тестовых данных', LinearRegression_test_RMSE)"
   ]
  },
  {
   "cell_type": "markdown",
   "metadata": {},
   "source": [
    "***С градиентным спуском и регуляризацией***"
   ]
  },
  {
   "cell_type": "markdown",
   "metadata": {},
   "source": [
    "Создадим класс для обучения модели линейной регрессии стохастическим градиентным спуском с регуляризацией.   "
   ]
  },
  {
   "cell_type": "code",
   "execution_count": 49,
   "metadata": {},
   "outputs": [],
   "source": [
    "class SGDLinearRegression:\n",
    "    def __init__(self, step_size, epochs, batch_size, reg_weight):\n",
    "        self.step_size = step_size\n",
    "        self.epochs = epochs\n",
    "        self.batch_size = batch_size\n",
    "        self.reg_weight = reg_weight\n",
    "    \n",
    "    def fit(self, train_features, train_target, **kwargs):\n",
    "        X = np.concatenate((np.ones((train_features.shape[0], 1)), train_features), axis=1)        \n",
    "        y = train_target\n",
    "        w = np.zeros(X.shape[1])\n",
    "        \n",
    "        for _ in range(self.epochs):\n",
    "            batches_count = X.shape[0] // self.batch_size\n",
    "            for i in range(batches_count):\n",
    "                begin = i * self.batch_size\n",
    "                end = (i + 1) * self.batch_size\n",
    "                X_batch = X[begin:end, :]\n",
    "                y_batch = y[begin:end]\n",
    "                gradient = 2 * X_batch.T.dot(X_batch.dot(w) - y_batch) / X_batch.shape[0]\n",
    "                reg = 2 * w.copy()\n",
    "                reg[0]=0\n",
    "                gradient += self.reg_weight*reg\n",
    "                w -= self.step_size * gradient\n",
    "        self.w = w[1:]\n",
    "        self.w0 = w[0]\n",
    "    \n",
    "    def get_params(self, deep = False):\n",
    "        return {\n",
    "        'step_size':self.step_size,\n",
    "        'epochs':self.epochs,\n",
    "        'batch_size':self.batch_size,\n",
    "        'reg_weight':self.reg_weight\n",
    "        }\n",
    "\n",
    "    def predict(self, test_features):\n",
    "        return test_features.dot(self.w) + self.w0"
   ]
  },
  {
   "cell_type": "markdown",
   "metadata": {},
   "source": [
    "<div class=\"alert alert-block alert-info\">\n",
    "<b>Ответ:</b> Кросс-валидация не работает потому что не хватает метода:\n",
    "    \n",
    "    def get_params(self, deep = False):\n",
    "        return {\n",
    "        'step_size':self.step_size,\n",
    "        'epochs':self.epochs,\n",
    "        'batch_size':self.batch_size,\n",
    "        'reg_weight':self.reg_weight\n",
    "    }\n",
    "Но все равно могут вощникнуть проблемы, так как cross_val_score привык работать с моделями реализованными в sklearn."
   ]
  },
  {
   "cell_type": "markdown",
   "metadata": {},
   "source": [
    "<div class=\"alert alert-block alert-success\">\n",
    "<b>Комментарий студента:</b> Самостоятельно освоить инструмент мне не удалось, поэтому попросил наставника подробно объяснить.  Обещал на следующей консультации.\n",
    "</div>"
   ]
  },
  {
   "cell_type": "markdown",
   "metadata": {},
   "source": [
    "Обучение "
   ]
  },
  {
   "cell_type": "code",
   "execution_count": 50,
   "metadata": {
    "scrolled": true
   },
   "outputs": [],
   "source": [
    "startTime = time.time()\n",
    "\n",
    "model = SGDLinearRegression(0.01, 30, 200, 0.2)\n",
    "model.fit(features_train, target_train)\n",
    "\n",
    "endTime = time.time()\n",
    "SGDLinearRegression_totalTime_train = endTime - startTime"
   ]
  },
  {
   "cell_type": "markdown",
   "metadata": {},
   "source": [
    "Время обучения"
   ]
  },
  {
   "cell_type": "code",
   "execution_count": 51,
   "metadata": {},
   "outputs": [],
   "source": [
    "print(\"Время, затраченное на обучение модели, сек\", SGDLinearRegression_totalTime_train) "
   ]
  },
  {
   "cell_type": "markdown",
   "metadata": {},
   "source": [
    "Предсказание"
   ]
  },
  {
   "cell_type": "code",
   "execution_count": 53,
   "metadata": {
    "scrolled": true
   },
   "outputs": [],
   "source": [
    "startTime = time.time()\n",
    "\n",
    "pred_train = model.predict(features_train)\n",
    "pred_test = model.predict(features_test)\n",
    "SGDLinearRegression_MSE_train = mean_squared_error(target_train, pred_train).round(5)\n",
    "SGDLinearRegression_MSE_test = mean_squared_error(target_test, pred_test).round(5)\n",
    "SGDLinearRegression_RMSE_test=SGDLinearRegression_MSE_test**0.5\n",
    "print(\"RMSE на тренировочных данных:\", SGDLinearRegression_MSE_train**0.5)\n",
    "print(\"RMSE на тестовых данных:\", SGDLinearRegression_RMSE_test)\n",
    "\n",
    "endTime = time.time()\n",
    "SGDLinearRegression_time_test = endTime - startTime"
   ]
  },
  {
   "cell_type": "markdown",
   "metadata": {},
   "source": [
    "Время предсказания"
   ]
  },
  {
   "cell_type": "code",
   "execution_count": 55,
   "metadata": {},
   "outputs": [],
   "source": [
    "print(\"Время, затраченное на предсказание модели, сек\", SGDLinearRegression_time_test)"
   ]
  },
  {
   "cell_type": "markdown",
   "metadata": {},
   "source": [
    "<div class=\"alert alert-block alert-info\">\n",
    "<b>Ответ:</b> Все дело в том, что ты забыл масштабировать тестовую выборку, от этого и такие показатели метрик странные. Спасибо за обратную связь по поводу тренажера, я передам команде.\n",
    "</div> "
   ]
  },
  {
   "cell_type": "markdown",
   "metadata": {},
   "source": [
    "<div class=\"alert alert-block alert-success\">\n",
    "<b>Комментарий студента:</b>  Сильно побить коробочную версию не удалось и я так понял это из-за отсутвия кросс-валидации, \n",
    "    поэтому буду осваивать sklearn. После масштабирования тестовой выборке все заработало.Ура!)\n",
    "</div>"
   ]
  },
  {
   "cell_type": "markdown",
   "metadata": {},
   "source": [
    "# <a id='part9'>4.2 Обучим модель деревьев</a>\n",
    "<a href='#table of contents'>к оглавлению</a>"
   ]
  },
  {
   "cell_type": "markdown",
   "metadata": {},
   "source": [
    "***Обучим модель случайного леса без градиентного спуска и регуляризации***"
   ]
  },
  {
   "cell_type": "code",
   "execution_count": 56,
   "metadata": {},
   "outputs": [],
   "source": [
    "#создадим словарь с перебираемыми параметрами\n",
    "parametrs = { 'n_estimators': range (10, 31, 10),\n",
    "              'max_depth': range (1,6, 2),\n",
    "              'min_samples_leaf': range (1,4)}"
   ]
  },
  {
   "cell_type": "code",
   "execution_count": 57,
   "metadata": {},
   "outputs": [],
   "source": [
    "startTime = time.time()\n",
    "\n",
    "model=RandomForestRegressor(random_state=r)\n",
    "grid=GridSearchCV(model, parametrs, scoring='neg_mean_squared_error', cv=10)\n",
    "model_fit=grid.fit(features_train, target_train)\n",
    "best_score=grid.best_score_\n",
    "print(\"Лучшее RMSE на тренировочных данных:\", abs(best_score)**0.5)\n",
    "print(\"Лучшие параметры:\", grid.best_params_)\n",
    "endTime = time.time()\n",
    "RandomForestRegressor_time_fit = endTime - startTime"
   ]
  },
  {
   "cell_type": "markdown",
   "metadata": {},
   "source": [
    "Время затраченное на обучение и подбор параметров"
   ]
  },
  {
   "cell_type": "code",
   "execution_count": 58,
   "metadata": {},
   "outputs": [],
   "source": [
    "print(\"Время, затраченное на обучение и подбор параметров модели, сек\", RandomForestRegressor_time_fit)"
   ]
  },
  {
   "cell_type": "markdown",
   "metadata": {},
   "source": [
    "На тестовых данных"
   ]
  },
  {
   "cell_type": "code",
   "execution_count": 59,
   "metadata": {},
   "outputs": [],
   "source": [
    "startTime = time.time()\n",
    "\n",
    "model = RandomForestRegressor(random_state=r, max_depth=5, n_estimators=20, min_samples_leaf=1) \n",
    "RandomForestRegressor_predict=abs(cross_val_score(model, features_test, target_test, scoring='neg_mean_squared_error', cv=5))\n",
    "RandomForestRegressor_predict_test_RMSE=(sum(RandomForestRegressor_predict)/len(RandomForestRegressor_predict))**0.5\n",
    "endTime = time.time()\n",
    "RandomForestRegressor_time_predict = endTime - startTime\n"
   ]
  },
  {
   "cell_type": "markdown",
   "metadata": {},
   "source": [
    "Время затраченное на обучение и предсказание, а также метрика"
   ]
  },
  {
   "cell_type": "code",
   "execution_count": 60,
   "metadata": {},
   "outputs": [],
   "source": [
    "print(\"Время, затраченное на обучение и предсказание модели, сек\", RandomForestRegressor_time_predict)\n",
    "print('Среднее RMSE на тестовых данных', RandomForestRegressor_predict_test_RMSE)"
   ]
  },
  {
   "cell_type": "markdown",
   "metadata": {},
   "source": [
    "***Воспользуемся для обучения модели случайного леса библиотекой Cat Boost***"
   ]
  },
  {
   "cell_type": "code",
   "execution_count": 61,
   "metadata": {},
   "outputs": [
    {
     "data": {},
     "metadata": {},
     "output_type": "display_data"
    }
   ],
   "source": [
    "display(df)"
   ]
  },
  {
   "cell_type": "code",
   "execution_count": 62,
   "metadata": {
    "scrolled": true
   },
   "outputs": [],
   "source": [
    "#создадим датасет для обучения моделей градиентного бустинга\n",
    "\n",
    "features_bust=df.drop(['price', 'level_0', 'index'], axis=1).reset_index() # получим признаки для обучения и удалим лишние столбцы с индексами\n",
    "target_bust=df['price'].reset_index()\n",
    "\n",
    "features_train_bust, features_test_bust, target_train_bust, target_test_bust = train_test_split(\n",
    "features_bust, target_bust, test_size=0.25, random_state=12345)\n",
    "features_train_bust=features_train_bust.drop(['index'], axis=1)\n",
    "features_test_bust=features_test_bust.drop(['index'], axis=1)"
   ]
  },
  {
   "cell_type": "code",
   "execution_count": 63,
   "metadata": {},
   "outputs": [
    {
     "data": {},
     "metadata": {},
     "output_type": "display_data"
    },
    {
     "data": {},
     "metadata": {},
     "output_type": "display_data"
    }
   ],
   "source": [
    "display(features_train_bust)\n",
    "display(features_test_bust)"
   ]
  },
  {
   "cell_type": "markdown",
   "metadata": {},
   "source": [
    "Получим категориальные признаки "
   ]
  },
  {
   "cell_type": "code",
   "execution_count": 64,
   "metadata": {},
   "outputs": [],
   "source": [
    "print(features_train_bust.columns)\n",
    "cat_features = ['vehicle_type', 'gearbox', 'model',\n",
    "                'fuel_type', 'brand', 'not_repaired']"
   ]
  },
  {
   "cell_type": "markdown",
   "metadata": {},
   "source": [
    "***Вопрос***  \n",
    "Так и не понял в чем ошибка, но код оставляю. "
   ]
  },
  {
   "cell_type": "markdown",
   "metadata": {},
   "source": [
    "<div class=\"alert alert-block alert-info\">\n",
    "<b>Совет:</b> У тебя здесь просто небольшие опечатки, использовал не те выборки. Вот так корректнее будет\n",
    "    \n",
    "    %%time\n",
    "    model = CatBoostRegressor(loss_function=\"RMSE\", learning_rate=1, depth=5, iterations=100)\n",
    "    model.fit(features_train_bust, target_train_bust, cat_features=cat_features, verbose=10)\n",
    "    predict_train = model.predict(features_train_bust)\n",
    "    predict_test = model.predict(features_test_bust)\n",
    "    result_train = mean_squared_error(target_train_bust, predict_train)**0.5\n",
    "    result_test = mean_squared_error(target_test_bust, predict_test)**0.5\n",
    "    print('Лучшее RMSE на тренировочных данных', result_train)\n",
    "    print('Лучшее RMSE на тестовых данных', result_test)\n",
    "</div> "
   ]
  },
  {
   "cell_type": "markdown",
   "metadata": {},
   "source": [
    "<div class=\"alert alert-block alert-success\">\n",
    "<b>Комментарий студента:</b>  Спасибо. Я уже торможу что-то, совсем заучился) Но все равно не работает...    \n",
    "    CatBoostError: c:/program files (x86)/go agent/pipelines/buildmaster/catboost.git/catboost/private/libs/target/data_providers.cpp:531: Currently only multi-regression objectives work with multidimensional target\n",
    "</div>"
   ]
  },
  {
   "cell_type": "markdown",
   "metadata": {},
   "source": [
    "<div class=\"alert alert-block alert-info\">\n",
    "<b>Ответ[2]:</b> У тебя в taget_train_bust колонка индекс мешается, вот и пишет что cat_boost не может работать с мульти-размерным таргетом.\n",
    "</div>"
   ]
  },
  {
   "cell_type": "markdown",
   "metadata": {},
   "source": [
    "Обучим модель"
   ]
  },
  {
   "cell_type": "markdown",
   "metadata": {},
   "source": [
    "startTime = time.time()\n",
    "\n",
    "model = CatBoostRegressor(loss_function=\"RMSE\", learning_rate=1, depth=5, iterations=100)\n",
    "model.fit(features_train_bust, target_train_bust, cat_features=cat_features, verbose=10)\n",
    "\n",
    "endTime = time.time()\n",
    "CatBoostRegressor_time_fit = endTime - startTime\n"
   ]
  },
  {
   "cell_type": "markdown",
   "metadata": {},
   "source": [
    "print(\"Время, затраченное на обучение модели, сек\", CatBoostRegressor_time_fit)"
   ]
  },
  {
   "cell_type": "markdown",
   "metadata": {},
   "source": [
    "predict_train = model.predict(features_train_bust)\n",
    "predict_test = model.predict(features_test_bust)\n",
    "result_train = mean_squared_error(target_train_bust, predict_train)**0.5\n",
    "result_test = mean_squared_error(target_test_bust, predict_test)**0.5\n",
    "print('Лучшее RMSE на тренировочных данных', result_train)\n",
    "print('Лучшее RMSE на тестовых данных', result_test)"
   ]
  },
  {
   "cell_type": "markdown",
   "metadata": {},
   "source": [
    "***Воспользуемся для обучения модели случайного леса библиотекой LightGBM***"
   ]
  },
  {
   "cell_type": "code",
   "execution_count": 66,
   "metadata": {},
   "outputs": [],
   "source": [
    "startTime = time.time()\n",
    "\n",
    "model = LGBMRegressor(boosting_type='gbdt', n_estimators=300, max_depth=5)\n",
    "cv = RepeatedKFold(n_splits=10, n_repeats=3, random_state=r)\n",
    "\n",
    "n_scores_train = cross_val_score(model, features_train, target_train, scoring='neg_mean_squared_error',\n",
    "                           cv=cv, n_jobs=-1, error_score='raise')\n",
    "\n",
    "print('Лучшее RMSE на тренировочных данных', abs(n_scores_train).mean()**0.5)\n",
    "\n",
    "\n",
    "endTime = time.time()\n",
    "LGBMRegressor_time_fit= endTime - startTime\n",
    "print(\"Время, затраченное на обучение модели, сек\", LGBMRegressor_time_fit)"
   ]
  },
  {
   "cell_type": "code",
   "execution_count": 67,
   "metadata": {},
   "outputs": [],
   "source": [
    "startTime = time.time()\n",
    "n_scores_test = cross_val_score(model, features_test, target_test, scoring='neg_mean_squared_error',\n",
    "                           cv=cv, n_jobs=-1, error_score='raise')\n",
    "endTime = time.time()\n",
    "LGBMRegressor_time_predict_test= endTime - startTime\n",
    "RMSE_LGBMRegressor_test=abs(n_scores_test).mean()**0.5\n",
    "\n",
    "print('Лучшее RMSE на тестовых данных', RMSE_LGBMRegressor_test)\n",
    "print(\"Время, затраченное на предсказание модели, сек\", LGBMRegressor_time_predict_test)"
   ]
  },
  {
   "cell_type": "markdown",
   "metadata": {},
   "source": [
    "# <a id='part10'>5 Общий вывод</a>\n",
    "<a href='#table of contents'>к оглавлению</a>"
   ]
  },
  {
   "cell_type": "code",
   "execution_count": 73,
   "metadata": {},
   "outputs": [
    {
     "data": {},
     "metadata": {},
     "output_type": "display_data"
    }
   ],
   "source": [
    "data = {'Модель,': ['Линейная регрессия без градиентного спуска и регуляризации', 'Линейная регрессия с градиентным спуском и регуляризацией',\n",
    "                    'Градиентный бустинг LightGBM', 'Cлучайный лес без градиентного спуска и регуляризации'], \n",
    "        'RMSE на тестовой выборке, сек': [LinearRegression_test_RMSE, SGDLinearRegression_RMSE_test, RMSE_LGBMRegressor_test, RandomForestRegressor_predict_test_RMSE],\n",
    "        'Время обучения, сек': [LinearRegression_totalTime_train, SGDLinearRegression_totalTime_train, LGBMRegressor_time_fit, RandomForestRegressor_time_fit], \n",
    "        'Время предсказания, сек': [LinearRegression_totalTime_test, SGDLinearRegression_totalTime_train, LGBMRegressor_time_predict_test, RandomForestRegressor_time_predict]}\n",
    "table= pd.DataFrame.from_dict(data)\n",
    "print('Таблица 1. Сравнение качества предсказания и времение обучения моделей')\n",
    "display(table)"
   ]
  },
  {
   "cell_type": "markdown",
   "metadata": {},
   "source": [
    " - Как видно из таблицы 1 Лучшей моделью по качеству предсказания является модель градиентного бустинга, а худшей линейная регрессия. Регуляризация и обучение градиентным спуском особо не улучшили метрики для линейной регресии, но значительно увеличили время ее обучения и предсказания. \n",
    " - Модель градиентного бустинга предсказывает лучше чем модель случайного леса, однако время предсказания дольше. Так как я не подбирал сильно параметры для модели градиентного бустинга время обучения у нее получилось быстрее чем у случайного леса, однако если параметры подбирать время обучения будет значительно дольше. \n",
    " - Если заказчику важно качество лучшая модель - градиентный бустинг, если скорость - линейная регрессия, а если соотношение скорость обучения/предсказания и качество, то модель случайного леса. "
   ]
  },
  {
   "cell_type": "markdown",
   "metadata": {},
   "source": [
    "<div class=\"alert alert-block alert-success\">\n",
    "\n",
    "<b>Успех:</b>  Хорошая работа с моделями. Кросс-валидационные методы успешно применены при подборе гиперпараметров. Радует, что ты попробовал внутренний метод кодировки данных.\n",
    "</div>"
   ]
  },
  {
   "cell_type": "markdown",
   "metadata": {},
   "source": [
    "<div class=\"alert alert-block alert-danger\">\n",
    "<b>Ошибка:</b> Заказчику интересно знать время обучения и скорость предсказания, поэтому эти показатели нужно посчитать и проанализировать отдельно друг от друга.\n",
    "</div>"
   ]
  },
  {
   "cell_type": "markdown",
   "metadata": {},
   "source": [
    "<div class=\"alert alert-block alert-success\">\n",
    "\n",
    "<b>Успех[2]:</b> Замечательно, так намного лучше.\n",
    "</div>"
   ]
  },
  {
   "cell_type": "markdown",
   "metadata": {},
   "source": [
    "<div class=\"alert alert-block alert-info\">\n",
    "\n",
    "<b>Совет:</b> Также можно было бы собрать все результаты в информативную таблицу для наглядности.\n",
    "</div>"
   ]
  }
 ],
 "metadata": {
  "kernelspec": {
   "display_name": "Python 3 (ipykernel)",
   "language": "python",
   "name": "python3"
  },
  "language_info": {
   "codemirror_mode": {
    "name": "ipython",
    "version": 3
   },
   "file_extension": ".py",
   "mimetype": "text/x-python",
   "name": "python",
   "nbconvert_exporter": "python",
   "pygments_lexer": "ipython3",
   "version": "3.9.5"
  },
  "toc": {
   "base_numbering": 1,
   "nav_menu": {},
   "number_sections": true,
   "sideBar": true,
   "skip_h1_title": true,
   "title_cell": "Table of Contents",
   "title_sidebar": "Contents",
   "toc_cell": false,
   "toc_position": {},
   "toc_section_display": true,
   "toc_window_display": false
  }
 },
 "nbformat": 4,
 "nbformat_minor": 4
}
